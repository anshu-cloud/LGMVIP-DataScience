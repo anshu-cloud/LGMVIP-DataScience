{
  "nbformat": 4,
  "nbformat_minor": 0,
  "metadata": {
    "colab": {
      "name": "LSTM_Stock_Prediction.ipynb",
      "provenance": []
    },
    "kernelspec": {
      "name": "python3",
      "display_name": "Python 3"
    },
    "language_info": {
      "name": "python"
    }
  },
  "cells": [
    {
      "cell_type": "markdown",
      "metadata": {
        "id": "-OEGGYRulG-4"
      },
      "source": [
        "# **Lets Grow More**\n",
        "*   Author: Anshu Sharma\n",
        "*   TASK(2): Stock Prediction"
      ]
    },
    {
      "cell_type": "code",
      "metadata": {
        "id": "iF0__ok7iHRu"
      },
      "source": [
        "# importing dataset and neccesary libraries\n",
        "url = \"https://raw.githubusercontent.com/mwitiderrick/stockprice/master/NSE-TATAGLOBAL.csv\"\n",
        "import numpy as np\n",
        "import pandas as pd\n",
        "import matplotlib.pyplot as plt\n",
        "import warnings\n",
        "warnings.filterwarnings('ignore')"
      ],
      "execution_count": null,
      "outputs": []
    },
    {
      "cell_type": "code",
      "metadata": {
        "colab": {
          "base_uri": "https://localhost:8080/",
          "height": 204
        },
        "id": "dzgtsLrtjzUj",
        "outputId": "cbace14c-69fb-4521-c95e-e8370b268801"
      },
      "source": [
        "df = pd.read_csv(url)\n",
        "data = pd.DataFrame(df)\n",
        "data.head()"
      ],
      "execution_count": null,
      "outputs": [
        {
          "output_type": "execute_result",
          "data": {
            "text/html": [
              "<div>\n",
              "<style scoped>\n",
              "    .dataframe tbody tr th:only-of-type {\n",
              "        vertical-align: middle;\n",
              "    }\n",
              "\n",
              "    .dataframe tbody tr th {\n",
              "        vertical-align: top;\n",
              "    }\n",
              "\n",
              "    .dataframe thead th {\n",
              "        text-align: right;\n",
              "    }\n",
              "</style>\n",
              "<table border=\"1\" class=\"dataframe\">\n",
              "  <thead>\n",
              "    <tr style=\"text-align: right;\">\n",
              "      <th></th>\n",
              "      <th>Date</th>\n",
              "      <th>Open</th>\n",
              "      <th>High</th>\n",
              "      <th>Low</th>\n",
              "      <th>Last</th>\n",
              "      <th>Close</th>\n",
              "      <th>Total Trade Quantity</th>\n",
              "      <th>Turnover (Lacs)</th>\n",
              "    </tr>\n",
              "  </thead>\n",
              "  <tbody>\n",
              "    <tr>\n",
              "      <th>0</th>\n",
              "      <td>2018-09-28</td>\n",
              "      <td>234.05</td>\n",
              "      <td>235.95</td>\n",
              "      <td>230.20</td>\n",
              "      <td>233.50</td>\n",
              "      <td>233.75</td>\n",
              "      <td>3069914</td>\n",
              "      <td>7162.35</td>\n",
              "    </tr>\n",
              "    <tr>\n",
              "      <th>1</th>\n",
              "      <td>2018-09-27</td>\n",
              "      <td>234.55</td>\n",
              "      <td>236.80</td>\n",
              "      <td>231.10</td>\n",
              "      <td>233.80</td>\n",
              "      <td>233.25</td>\n",
              "      <td>5082859</td>\n",
              "      <td>11859.95</td>\n",
              "    </tr>\n",
              "    <tr>\n",
              "      <th>2</th>\n",
              "      <td>2018-09-26</td>\n",
              "      <td>240.00</td>\n",
              "      <td>240.00</td>\n",
              "      <td>232.50</td>\n",
              "      <td>235.00</td>\n",
              "      <td>234.25</td>\n",
              "      <td>2240909</td>\n",
              "      <td>5248.60</td>\n",
              "    </tr>\n",
              "    <tr>\n",
              "      <th>3</th>\n",
              "      <td>2018-09-25</td>\n",
              "      <td>233.30</td>\n",
              "      <td>236.75</td>\n",
              "      <td>232.00</td>\n",
              "      <td>236.25</td>\n",
              "      <td>236.10</td>\n",
              "      <td>2349368</td>\n",
              "      <td>5503.90</td>\n",
              "    </tr>\n",
              "    <tr>\n",
              "      <th>4</th>\n",
              "      <td>2018-09-24</td>\n",
              "      <td>233.55</td>\n",
              "      <td>239.20</td>\n",
              "      <td>230.75</td>\n",
              "      <td>234.00</td>\n",
              "      <td>233.30</td>\n",
              "      <td>3423509</td>\n",
              "      <td>7999.55</td>\n",
              "    </tr>\n",
              "  </tbody>\n",
              "</table>\n",
              "</div>"
            ],
            "text/plain": [
              "         Date    Open    High  ...   Close  Total Trade Quantity  Turnover (Lacs)\n",
              "0  2018-09-28  234.05  235.95  ...  233.75               3069914          7162.35\n",
              "1  2018-09-27  234.55  236.80  ...  233.25               5082859         11859.95\n",
              "2  2018-09-26  240.00  240.00  ...  234.25               2240909          5248.60\n",
              "3  2018-09-25  233.30  236.75  ...  236.10               2349368          5503.90\n",
              "4  2018-09-24  233.55  239.20  ...  233.30               3423509          7999.55\n",
              "\n",
              "[5 rows x 8 columns]"
            ]
          },
          "metadata": {},
          "execution_count": 2
        }
      ]
    },
    {
      "cell_type": "code",
      "metadata": {
        "colab": {
          "base_uri": "https://localhost:8080/",
          "height": 459
        },
        "id": "CjPEZqc7kW6M",
        "outputId": "9a8e4baf-af71-4efc-bb96-63741fef389b"
      },
      "source": [
        "data.info()\n",
        "data.tail()"
      ],
      "execution_count": null,
      "outputs": [
        {
          "output_type": "stream",
          "name": "stdout",
          "text": [
            "<class 'pandas.core.frame.DataFrame'>\n",
            "RangeIndex: 2035 entries, 0 to 2034\n",
            "Data columns (total 8 columns):\n",
            " #   Column                Non-Null Count  Dtype  \n",
            "---  ------                --------------  -----  \n",
            " 0   Date                  2035 non-null   object \n",
            " 1   Open                  2035 non-null   float64\n",
            " 2   High                  2035 non-null   float64\n",
            " 3   Low                   2035 non-null   float64\n",
            " 4   Last                  2035 non-null   float64\n",
            " 5   Close                 2035 non-null   float64\n",
            " 6   Total Trade Quantity  2035 non-null   int64  \n",
            " 7   Turnover (Lacs)       2035 non-null   float64\n",
            "dtypes: float64(6), int64(1), object(1)\n",
            "memory usage: 127.3+ KB\n"
          ]
        },
        {
          "output_type": "execute_result",
          "data": {
            "text/html": [
              "<div>\n",
              "<style scoped>\n",
              "    .dataframe tbody tr th:only-of-type {\n",
              "        vertical-align: middle;\n",
              "    }\n",
              "\n",
              "    .dataframe tbody tr th {\n",
              "        vertical-align: top;\n",
              "    }\n",
              "\n",
              "    .dataframe thead th {\n",
              "        text-align: right;\n",
              "    }\n",
              "</style>\n",
              "<table border=\"1\" class=\"dataframe\">\n",
              "  <thead>\n",
              "    <tr style=\"text-align: right;\">\n",
              "      <th></th>\n",
              "      <th>Date</th>\n",
              "      <th>Open</th>\n",
              "      <th>High</th>\n",
              "      <th>Low</th>\n",
              "      <th>Last</th>\n",
              "      <th>Close</th>\n",
              "      <th>Total Trade Quantity</th>\n",
              "      <th>Turnover (Lacs)</th>\n",
              "    </tr>\n",
              "  </thead>\n",
              "  <tbody>\n",
              "    <tr>\n",
              "      <th>2030</th>\n",
              "      <td>2010-07-27</td>\n",
              "      <td>117.6</td>\n",
              "      <td>119.50</td>\n",
              "      <td>112.00</td>\n",
              "      <td>118.80</td>\n",
              "      <td>118.65</td>\n",
              "      <td>586100</td>\n",
              "      <td>694.98</td>\n",
              "    </tr>\n",
              "    <tr>\n",
              "      <th>2031</th>\n",
              "      <td>2010-07-26</td>\n",
              "      <td>120.1</td>\n",
              "      <td>121.00</td>\n",
              "      <td>117.10</td>\n",
              "      <td>117.10</td>\n",
              "      <td>117.60</td>\n",
              "      <td>658440</td>\n",
              "      <td>780.01</td>\n",
              "    </tr>\n",
              "    <tr>\n",
              "      <th>2032</th>\n",
              "      <td>2010-07-23</td>\n",
              "      <td>121.8</td>\n",
              "      <td>121.95</td>\n",
              "      <td>120.25</td>\n",
              "      <td>120.35</td>\n",
              "      <td>120.65</td>\n",
              "      <td>281312</td>\n",
              "      <td>340.31</td>\n",
              "    </tr>\n",
              "    <tr>\n",
              "      <th>2033</th>\n",
              "      <td>2010-07-22</td>\n",
              "      <td>120.3</td>\n",
              "      <td>122.00</td>\n",
              "      <td>120.25</td>\n",
              "      <td>120.75</td>\n",
              "      <td>120.90</td>\n",
              "      <td>293312</td>\n",
              "      <td>355.17</td>\n",
              "    </tr>\n",
              "    <tr>\n",
              "      <th>2034</th>\n",
              "      <td>2010-07-21</td>\n",
              "      <td>122.1</td>\n",
              "      <td>123.00</td>\n",
              "      <td>121.05</td>\n",
              "      <td>121.10</td>\n",
              "      <td>121.55</td>\n",
              "      <td>658666</td>\n",
              "      <td>803.56</td>\n",
              "    </tr>\n",
              "  </tbody>\n",
              "</table>\n",
              "</div>"
            ],
            "text/plain": [
              "            Date   Open    High  ...   Close  Total Trade Quantity  Turnover (Lacs)\n",
              "2030  2010-07-27  117.6  119.50  ...  118.65                586100           694.98\n",
              "2031  2010-07-26  120.1  121.00  ...  117.60                658440           780.01\n",
              "2032  2010-07-23  121.8  121.95  ...  120.65                281312           340.31\n",
              "2033  2010-07-22  120.3  122.00  ...  120.90                293312           355.17\n",
              "2034  2010-07-21  122.1  123.00  ...  121.55                658666           803.56\n",
              "\n",
              "[5 rows x 8 columns]"
            ]
          },
          "metadata": {},
          "execution_count": 3
        }
      ]
    },
    {
      "cell_type": "code",
      "metadata": {
        "colab": {
          "base_uri": "https://localhost:8080/",
          "height": 419
        },
        "id": "pQWvlbjFkvim",
        "outputId": "fd247c76-e907-4507-f497-18317e8e9313"
      },
      "source": [
        "rev_data = data.iloc[::-1]\n",
        "rev_data"
      ],
      "execution_count": null,
      "outputs": [
        {
          "output_type": "execute_result",
          "data": {
            "text/html": [
              "<div>\n",
              "<style scoped>\n",
              "    .dataframe tbody tr th:only-of-type {\n",
              "        vertical-align: middle;\n",
              "    }\n",
              "\n",
              "    .dataframe tbody tr th {\n",
              "        vertical-align: top;\n",
              "    }\n",
              "\n",
              "    .dataframe thead th {\n",
              "        text-align: right;\n",
              "    }\n",
              "</style>\n",
              "<table border=\"1\" class=\"dataframe\">\n",
              "  <thead>\n",
              "    <tr style=\"text-align: right;\">\n",
              "      <th></th>\n",
              "      <th>Date</th>\n",
              "      <th>Open</th>\n",
              "      <th>High</th>\n",
              "      <th>Low</th>\n",
              "      <th>Last</th>\n",
              "      <th>Close</th>\n",
              "      <th>Total Trade Quantity</th>\n",
              "      <th>Turnover (Lacs)</th>\n",
              "    </tr>\n",
              "  </thead>\n",
              "  <tbody>\n",
              "    <tr>\n",
              "      <th>2034</th>\n",
              "      <td>2010-07-21</td>\n",
              "      <td>122.10</td>\n",
              "      <td>123.00</td>\n",
              "      <td>121.05</td>\n",
              "      <td>121.10</td>\n",
              "      <td>121.55</td>\n",
              "      <td>658666</td>\n",
              "      <td>803.56</td>\n",
              "    </tr>\n",
              "    <tr>\n",
              "      <th>2033</th>\n",
              "      <td>2010-07-22</td>\n",
              "      <td>120.30</td>\n",
              "      <td>122.00</td>\n",
              "      <td>120.25</td>\n",
              "      <td>120.75</td>\n",
              "      <td>120.90</td>\n",
              "      <td>293312</td>\n",
              "      <td>355.17</td>\n",
              "    </tr>\n",
              "    <tr>\n",
              "      <th>2032</th>\n",
              "      <td>2010-07-23</td>\n",
              "      <td>121.80</td>\n",
              "      <td>121.95</td>\n",
              "      <td>120.25</td>\n",
              "      <td>120.35</td>\n",
              "      <td>120.65</td>\n",
              "      <td>281312</td>\n",
              "      <td>340.31</td>\n",
              "    </tr>\n",
              "    <tr>\n",
              "      <th>2031</th>\n",
              "      <td>2010-07-26</td>\n",
              "      <td>120.10</td>\n",
              "      <td>121.00</td>\n",
              "      <td>117.10</td>\n",
              "      <td>117.10</td>\n",
              "      <td>117.60</td>\n",
              "      <td>658440</td>\n",
              "      <td>780.01</td>\n",
              "    </tr>\n",
              "    <tr>\n",
              "      <th>2030</th>\n",
              "      <td>2010-07-27</td>\n",
              "      <td>117.60</td>\n",
              "      <td>119.50</td>\n",
              "      <td>112.00</td>\n",
              "      <td>118.80</td>\n",
              "      <td>118.65</td>\n",
              "      <td>586100</td>\n",
              "      <td>694.98</td>\n",
              "    </tr>\n",
              "    <tr>\n",
              "      <th>...</th>\n",
              "      <td>...</td>\n",
              "      <td>...</td>\n",
              "      <td>...</td>\n",
              "      <td>...</td>\n",
              "      <td>...</td>\n",
              "      <td>...</td>\n",
              "      <td>...</td>\n",
              "      <td>...</td>\n",
              "    </tr>\n",
              "    <tr>\n",
              "      <th>4</th>\n",
              "      <td>2018-09-24</td>\n",
              "      <td>233.55</td>\n",
              "      <td>239.20</td>\n",
              "      <td>230.75</td>\n",
              "      <td>234.00</td>\n",
              "      <td>233.30</td>\n",
              "      <td>3423509</td>\n",
              "      <td>7999.55</td>\n",
              "    </tr>\n",
              "    <tr>\n",
              "      <th>3</th>\n",
              "      <td>2018-09-25</td>\n",
              "      <td>233.30</td>\n",
              "      <td>236.75</td>\n",
              "      <td>232.00</td>\n",
              "      <td>236.25</td>\n",
              "      <td>236.10</td>\n",
              "      <td>2349368</td>\n",
              "      <td>5503.90</td>\n",
              "    </tr>\n",
              "    <tr>\n",
              "      <th>2</th>\n",
              "      <td>2018-09-26</td>\n",
              "      <td>240.00</td>\n",
              "      <td>240.00</td>\n",
              "      <td>232.50</td>\n",
              "      <td>235.00</td>\n",
              "      <td>234.25</td>\n",
              "      <td>2240909</td>\n",
              "      <td>5248.60</td>\n",
              "    </tr>\n",
              "    <tr>\n",
              "      <th>1</th>\n",
              "      <td>2018-09-27</td>\n",
              "      <td>234.55</td>\n",
              "      <td>236.80</td>\n",
              "      <td>231.10</td>\n",
              "      <td>233.80</td>\n",
              "      <td>233.25</td>\n",
              "      <td>5082859</td>\n",
              "      <td>11859.95</td>\n",
              "    </tr>\n",
              "    <tr>\n",
              "      <th>0</th>\n",
              "      <td>2018-09-28</td>\n",
              "      <td>234.05</td>\n",
              "      <td>235.95</td>\n",
              "      <td>230.20</td>\n",
              "      <td>233.50</td>\n",
              "      <td>233.75</td>\n",
              "      <td>3069914</td>\n",
              "      <td>7162.35</td>\n",
              "    </tr>\n",
              "  </tbody>\n",
              "</table>\n",
              "<p>2035 rows × 8 columns</p>\n",
              "</div>"
            ],
            "text/plain": [
              "            Date    Open    High  ...   Close  Total Trade Quantity  Turnover (Lacs)\n",
              "2034  2010-07-21  122.10  123.00  ...  121.55                658666           803.56\n",
              "2033  2010-07-22  120.30  122.00  ...  120.90                293312           355.17\n",
              "2032  2010-07-23  121.80  121.95  ...  120.65                281312           340.31\n",
              "2031  2010-07-26  120.10  121.00  ...  117.60                658440           780.01\n",
              "2030  2010-07-27  117.60  119.50  ...  118.65                586100           694.98\n",
              "...          ...     ...     ...  ...     ...                   ...              ...\n",
              "4     2018-09-24  233.55  239.20  ...  233.30               3423509          7999.55\n",
              "3     2018-09-25  233.30  236.75  ...  236.10               2349368          5503.90\n",
              "2     2018-09-26  240.00  240.00  ...  234.25               2240909          5248.60\n",
              "1     2018-09-27  234.55  236.80  ...  233.25               5082859         11859.95\n",
              "0     2018-09-28  234.05  235.95  ...  233.75               3069914          7162.35\n",
              "\n",
              "[2035 rows x 8 columns]"
            ]
          },
          "metadata": {},
          "execution_count": 4
        }
      ]
    },
    {
      "cell_type": "code",
      "metadata": {
        "colab": {
          "base_uri": "https://localhost:8080/"
        },
        "id": "rl7eaILRnB3d",
        "outputId": "3bf90509-72f3-4dbb-bfe8-ad9bed39f439"
      },
      "source": [
        "# checking for null values.\n",
        "rev_data.isnull().sum()"
      ],
      "execution_count": null,
      "outputs": [
        {
          "output_type": "execute_result",
          "data": {
            "text/plain": [
              "Date                    0\n",
              "Open                    0\n",
              "High                    0\n",
              "Low                     0\n",
              "Last                    0\n",
              "Close                   0\n",
              "Total Trade Quantity    0\n",
              "Turnover (Lacs)         0\n",
              "dtype: int64"
            ]
          },
          "metadata": {},
          "execution_count": 5
        }
      ]
    },
    {
      "cell_type": "code",
      "metadata": {
        "colab": {
          "base_uri": "https://localhost:8080/",
          "height": 382
        },
        "id": "Hub3RtBvpIUK",
        "outputId": "e9c55f23-8e1e-406b-83dd-a859d4ab29b4"
      },
      "source": [
        "# visualising the stocks progress\n",
        "fig = plt.figure(figsize = (25, 7))\n",
        "plt.plot(rev_data.Date,rev_data.High, color = 'red', label = ' Stock Price')\n",
        "plt.xlabel('Year')\n",
        "plt.ylabel('INR')\n",
        "plt.legend()\n",
        "plt.show()"
      ],
      "execution_count": null,
      "outputs": [
        {
          "output_type": "display_data",
          "data": {
            "image/png": "[encoded data removed]",
            "text/plain": [
              "<Figure size 1800x504 with 1 Axes>"
            ]
          },
          "metadata": {
            "needs_background": "light"
          }
        }
      ]
    },
    {
      "cell_type": "code",
      "metadata": {
        "id": "AKTFM0yLqU2X"
      },
      "source": [
        "# splitting dataset for training and testing of model\n",
        "from sklearn.model_selection import train_test_split\n",
        "data_train, data_test = train_test_split(rev_data,train_size = 0.8, shuffle =False)"
      ],
      "execution_count": null,
      "outputs": []
    },
    {
      "cell_type": "code",
      "metadata": {
        "colab": {
          "base_uri": "https://localhost:8080/"
        },
        "id": "7O6l-OnIqxEO",
        "outputId": "a23d37e5-223e-4da3-9e9f-8351b9cecc6b"
      },
      "source": [
        "print(data_train.shape)\n",
        "print(data_test.shape)"
      ],
      "execution_count": null,
      "outputs": [
        {
          "output_type": "stream",
          "name": "stdout",
          "text": [
            "(1628, 8)\n",
            "(407, 8)\n"
          ]
        }
      ]
    },
    {
      "cell_type": "code",
      "metadata": {
        "id": "k6N_XIfOrCwD"
      },
      "source": [
        "# dropping unuseful columns\n",
        "data_train.drop(['Date','Last'], axis =1,inplace= True)\n",
        "data_test.drop(['Date','Last'], axis =1,inplace=True)"
      ],
      "execution_count": null,
      "outputs": []
    },
    {
      "cell_type": "code",
      "metadata": {
        "colab": {
          "base_uri": "https://localhost:8080/"
        },
        "id": "NWYmVGRatDeF",
        "outputId": "19d61c1f-228b-4375-8b6b-2cc58c39cb68"
      },
      "source": [
        "print(data_train.shape)\n",
        "print(data_test.shape)"
      ],
      "execution_count": null,
      "outputs": [
        {
          "output_type": "stream",
          "name": "stdout",
          "text": [
            "(1628, 6)\n",
            "(407, 6)\n"
          ]
        }
      ]
    },
    {
      "cell_type": "code",
      "metadata": {
        "id": "ZB1NzyQgtwLU"
      },
      "source": [
        "# Preprocessing and standardising Data\n",
        "from sklearn.preprocessing import MinMaxScaler\n",
        "\n",
        "# scale our price from 0 to 1\n",
        "\n",
        "sc = MinMaxScaler(feature_range = (0, 1))\n",
        "train_set= sc.fit_transform(data_train)\n",
        "test_set = sc.fit_transform(data_test)"
      ],
      "execution_count": null,
      "outputs": []
    },
    {
      "cell_type": "code",
      "metadata": {
        "colab": {
          "base_uri": "https://localhost:8080/"
        },
        "id": "VxQYTIvBt9vK",
        "outputId": "15c480e2-0ef9-4960-ca63-37148c614c59"
      },
      "source": [
        "print(train_set)\n"
      ],
      "execution_count": null,
      "outputs": [
        {
          "output_type": "stream",
          "name": "stdout",
          "text": [
            "[[0.41456016 0.40729483 0.44092374 0.41470889 0.03462666 0.02723961]\n",
            " [0.39635996 0.39716312 0.43233083 0.40806946 0.01419073 0.0113053 ]\n",
            " [0.41152679 0.39665653 0.43233083 0.40551583 0.01351951 0.01077722]\n",
            " ...\n",
            " [0.57735086 0.61904762 0.61331901 0.62206333 0.19742248 0.17766623]\n",
            " [0.61476239 0.62765957 0.65735768 0.63125638 0.11678567 0.10668446]\n",
            " [0.61678463 0.63829787 0.64554243 0.62002043 0.12117162 0.11087637]]\n"
          ]
        }
      ]
    },
    {
      "cell_type": "code",
      "metadata": {
        "colab": {
          "base_uri": "https://localhost:8080/"
        },
        "id": "oMy5x4BZuSxi",
        "outputId": "943608cd-95f4-41c8-956b-71d16cfbfa04"
      },
      "source": [
        "print(test_set)"
      ],
      "execution_count": null,
      "outputs": [
        {
          "output_type": "stream",
          "name": "stdout",
          "text": [
            "[[0.01823467 0.03732133 0.02487831 0.04797244 0.05688484 0.04031548]\n",
            " [0.03964059 0.03864479 0.03407247 0.03604559 0.04166872 0.02895183]\n",
            " [0.0288055  0.02991001 0.03163872 0.03631063 0.0291277  0.01931034]\n",
            " ...\n",
            " [0.53646934 0.5301747  0.51784749 0.51497482 0.05960733 0.07909168]\n",
            " [0.50766385 0.51323452 0.51027582 0.509674   0.15877388 0.19963952]\n",
            " [0.50502114 0.50873478 0.50540833 0.51232441 0.0885345  0.11398598]]\n"
          ]
        }
      ]
    },
    {
      "cell_type": "code",
      "metadata": {
        "id": "bC-lDQYsu_vm"
      },
      "source": [
        "# this function will combine data of 60 days (we can change it using time_window parameter) \n",
        "\n",
        "def generate_data(series, y_col_index, time_window=60):\n",
        "  X = []\n",
        "  y = []\n",
        "  for i in range(60, len(series)):\n",
        "    X.append(series[i-time_window: i])\n",
        "    y.append(series[i, y_col_index])\n",
        "  return (np.array(X), np.array(y))"
      ],
      "execution_count": null,
      "outputs": []
    },
    {
      "cell_type": "code",
      "metadata": {
        "colab": {
          "base_uri": "https://localhost:8080/"
        },
        "id": "he_K47S4vK0o",
        "outputId": "45c41dd5-d688-4457-93b5-1c3c589e134c"
      },
      "source": [
        "# Splitting features and labels\n",
        "X_train, y_train = generate_data(train_set, y_col_index=3)\n",
        "X_test, y_test = generate_data(test_set, y_col_index=3)\n",
        "print(X_train.shape)\n",
        "print(y_train.shape)\n",
        "print(X_test.shape)\n",
        "print(y_test.shape)"
      ],
      "execution_count": null,
      "outputs": [
        {
          "output_type": "stream",
          "name": "stdout",
          "text": [
            "(1568, 60, 6)\n",
            "(1568,)\n",
            "(347, 60, 6)\n",
            "(347,)\n"
          ]
        }
      ]
    },
    {
      "cell_type": "code",
      "metadata": {
        "colab": {
          "base_uri": "https://localhost:8080/"
        },
        "id": "sSiIw5RQv_2J",
        "outputId": "9804ec57-1db2-4814-ed26-e3955c68e2a3"
      },
      "source": [
        "print('Training data shape: ',X_train.shape)\n",
        "print('We will observe {} days price to predict next day price'.format(X_train.shape[1]))"
      ],
      "execution_count": null,
      "outputs": [
        {
          "output_type": "stream",
          "name": "stdout",
          "text": [
            "Training data shape:  (1568, 60, 6)\n",
            "We will observe 60 days price to predict next day price\n"
          ]
        }
      ]
    },
    {
      "cell_type": "markdown",
      "metadata": {
        "id": "9YHTjd4fnZb7"
      },
      "source": [
        "# Model Building"
      ]
    },
    {
      "cell_type": "code",
      "metadata": {
        "id": "qux_DL2Gwv7i"
      },
      "source": [
        "from keras.models import Sequential\n",
        "from keras.layers import Dense\n",
        "from keras.layers import LSTM\n",
        "from keras.layers import Dropout"
      ],
      "execution_count": null,
      "outputs": []
    },
    {
      "cell_type": "code",
      "metadata": {
        "id": "cKoyZLbmw6FO"
      },
      "source": [
        "model = Sequential()\n",
        "\n",
        "# layer 1\n",
        "#return_sequence=True, it will return something with shape\n",
        "#unit means the dimension of the inner cells in LSTM.\n",
        "\n",
        "model.add(LSTM(units = 50, return_sequences = True, input_shape = X_train.shape[1:]))\n",
        "model.add(Dropout(0.2))\n",
        "\n",
        "# layer 2\n",
        "model.add(LSTM(units = 30, return_sequences = True))\n",
        "model.add(Dropout(0.2))\n",
        "\n",
        "# layer 3\n",
        "model.add(LSTM(units = 10, return_sequences = True))\n",
        "model.add(Dropout(0.2))\n",
        "\n",
        "# layer 4\n",
        "model.add(LSTM(units = 5))\n",
        "model.add(Dropout(0.2))\n",
        "\n",
        "# layer 5\n",
        "model.add(Dense(units = 1))"
      ],
      "execution_count": null,
      "outputs": []
    },
    {
      "cell_type": "code",
      "metadata": {
        "colab": {
          "base_uri": "https://localhost:8080/"
        },
        "id": "reRtUy-Pxuhr",
        "outputId": "a543e0e4-4966-4171-867d-c0764b486773"
      },
      "source": [
        "model.summary()"
      ],
      "execution_count": null,
      "outputs": [
        {
          "output_type": "stream",
          "name": "stdout",
          "text": [
            "Model: \"sequential\"\n",
            "_________________________________________________________________\n",
            "Layer (type)                 Output Shape              Param #   \n",
            "=================================================================\n",
            "lstm (LSTM)                  (None, 60, 50)            11400     \n",
            "_________________________________________________________________\n",
            "dropout (Dropout)            (None, 60, 50)            0         \n",
            "_________________________________________________________________\n",
            "lstm_1 (LSTM)                (None, 60, 30)            9720      \n",
            "_________________________________________________________________\n",
            "dropout_1 (Dropout)          (None, 60, 30)            0         \n",
            "_________________________________________________________________\n",
            "lstm_2 (LSTM)                (None, 60, 10)            1640      \n",
            "_________________________________________________________________\n",
            "dropout_2 (Dropout)          (None, 60, 10)            0         \n",
            "_________________________________________________________________\n",
            "lstm_3 (LSTM)                (None, 5)                 320       \n",
            "_________________________________________________________________\n",
            "dropout_3 (Dropout)          (None, 5)                 0         \n",
            "_________________________________________________________________\n",
            "dense (Dense)                (None, 1)                 6         \n",
            "=================================================================\n",
            "Total params: 23,086\n",
            "Trainable params: 23,086\n",
            "Non-trainable params: 0\n",
            "_________________________________________________________________\n"
          ]
        }
      ]
    },
    {
      "cell_type": "code",
      "metadata": {
        "colab": {
          "base_uri": "https://localhost:8080/"
        },
        "id": "Fi9zMJO7xxpy",
        "outputId": "183b3dfe-c103-460c-d01b-1c9838963260"
      },
      "source": [
        "# Model Learning\n",
        "model.compile(optimizer = 'adam', loss = 'mean_squared_error')\n",
        "model.fit(X_train,\n",
        "          y_train,\n",
        "          epochs = 50,\n",
        "          batch_size = 64,\n",
        "          validation_data = (X_test, y_test))"
      ],
      "execution_count": null,
      "outputs": [
        {
          "output_type": "stream",
          "name": "stdout",
          "text": [
            "Epoch 1/50\n",
            "25/25 [==============================] - 10s 154ms/step - loss: 0.1325 - val_loss: 0.0339\n",
            "Epoch 2/50\n",
            "25/25 [==============================] - 2s 98ms/step - loss: 0.0400 - val_loss: 0.0122\n",
            "Epoch 3/50\n",
            "25/25 [==============================] - 3s 101ms/step - loss: 0.0289 - val_loss: 0.0071\n",
            "Epoch 4/50\n",
            "25/25 [==============================] - 2s 97ms/step - loss: 0.0223 - val_loss: 0.0086\n",
            "Epoch 5/50\n",
            "25/25 [==============================] - 3s 100ms/step - loss: 0.0255 - val_loss: 0.0064\n",
            "Epoch 6/50\n",
            "25/25 [==============================] - 2s 98ms/step - loss: 0.0230 - val_loss: 0.0085\n",
            "Epoch 7/50\n",
            "25/25 [==============================] - 2s 100ms/step - loss: 0.0212 - val_loss: 0.0080\n",
            "Epoch 8/50\n",
            "25/25 [==============================] - 3s 108ms/step - loss: 0.0205 - val_loss: 0.0058\n",
            "Epoch 9/50\n",
            "25/25 [==============================] - 2s 98ms/step - loss: 0.0196 - val_loss: 0.0095\n",
            "Epoch 10/50\n",
            "25/25 [==============================] - 2s 100ms/step - loss: 0.0196 - val_loss: 0.0059\n",
            "Epoch 11/50\n",
            "25/25 [==============================] - 3s 103ms/step - loss: 0.0179 - val_loss: 0.0060\n",
            "Epoch 12/50\n",
            "25/25 [==============================] - 3s 101ms/step - loss: 0.0178 - val_loss: 0.0057\n",
            "Epoch 13/50\n",
            "25/25 [==============================] - 3s 102ms/step - loss: 0.0168 - val_loss: 0.0057\n",
            "Epoch 14/50\n",
            "25/25 [==============================] - 3s 102ms/step - loss: 0.0178 - val_loss: 0.0053\n",
            "Epoch 15/50\n",
            "25/25 [==============================] - 2s 99ms/step - loss: 0.0173 - val_loss: 0.0050\n",
            "Epoch 16/50\n",
            "25/25 [==============================] - 2s 100ms/step - loss: 0.0170 - val_loss: 0.0054\n",
            "Epoch 17/50\n",
            "25/25 [==============================] - 2s 99ms/step - loss: 0.0151 - val_loss: 0.0049\n",
            "Epoch 18/50\n",
            "25/25 [==============================] - 3s 102ms/step - loss: 0.0155 - val_loss: 0.0045\n",
            "Epoch 19/50\n",
            "25/25 [==============================] - 3s 100ms/step - loss: 0.0149 - val_loss: 0.0052\n",
            "Epoch 20/50\n",
            "25/25 [==============================] - 3s 102ms/step - loss: 0.0143 - val_loss: 0.0049\n",
            "Epoch 21/50\n",
            "25/25 [==============================] - 3s 102ms/step - loss: 0.0146 - val_loss: 0.0052\n",
            "Epoch 22/50\n",
            "25/25 [==============================] - 3s 100ms/step - loss: 0.0143 - val_loss: 0.0042\n",
            "Epoch 23/50\n",
            "25/25 [==============================] - 3s 101ms/step - loss: 0.0145 - val_loss: 0.0059\n",
            "Epoch 24/50\n",
            "25/25 [==============================] - 3s 102ms/step - loss: 0.0137 - val_loss: 0.0045\n",
            "Epoch 25/50\n",
            "25/25 [==============================] - 3s 102ms/step - loss: 0.0130 - val_loss: 0.0050\n",
            "Epoch 26/50\n",
            "25/25 [==============================] - 3s 101ms/step - loss: 0.0128 - val_loss: 0.0058\n",
            "Epoch 27/50\n",
            "25/25 [==============================] - 3s 103ms/step - loss: 0.0120 - val_loss: 0.0039\n",
            "Epoch 28/50\n",
            "25/25 [==============================] - 3s 102ms/step - loss: 0.0115 - val_loss: 0.0042\n",
            "Epoch 29/50\n",
            "25/25 [==============================] - 3s 101ms/step - loss: 0.0114 - val_loss: 0.0049\n",
            "Epoch 30/50\n",
            "25/25 [==============================] - 2s 99ms/step - loss: 0.0109 - val_loss: 0.0042\n",
            "Epoch 31/50\n",
            "25/25 [==============================] - 3s 100ms/step - loss: 0.0116 - val_loss: 0.0040\n",
            "Epoch 32/50\n",
            "25/25 [==============================] - 3s 111ms/step - loss: 0.0104 - val_loss: 0.0040\n",
            "Epoch 33/50\n",
            "25/25 [==============================] - 3s 99ms/step - loss: 0.0110 - val_loss: 0.0043\n",
            "Epoch 34/50\n",
            "25/25 [==============================] - 3s 104ms/step - loss: 0.0104 - val_loss: 0.0036\n",
            "Epoch 35/50\n",
            "25/25 [==============================] - 2s 99ms/step - loss: 0.0104 - val_loss: 0.0036\n",
            "Epoch 36/50\n",
            "25/25 [==============================] - 3s 101ms/step - loss: 0.0097 - val_loss: 0.0044\n",
            "Epoch 37/50\n",
            "25/25 [==============================] - 2s 99ms/step - loss: 0.0100 - val_loss: 0.0039\n",
            "Epoch 38/50\n",
            "25/25 [==============================] - 2s 97ms/step - loss: 0.0092 - val_loss: 0.0052\n",
            "Epoch 39/50\n",
            "25/25 [==============================] - 2s 98ms/step - loss: 0.0094 - val_loss: 0.0035\n",
            "Epoch 40/50\n",
            "25/25 [==============================] - 2s 97ms/step - loss: 0.0099 - val_loss: 0.0035\n",
            "Epoch 41/50\n",
            "25/25 [==============================] - 3s 103ms/step - loss: 0.0087 - val_loss: 0.0038\n",
            "Epoch 42/50\n",
            "25/25 [==============================] - 2s 100ms/step - loss: 0.0082 - val_loss: 0.0033\n",
            "Epoch 43/50\n",
            "25/25 [==============================] - 2s 98ms/step - loss: 0.0093 - val_loss: 0.0032\n",
            "Epoch 44/50\n",
            "25/25 [==============================] - 2s 99ms/step - loss: 0.0083 - val_loss: 0.0039\n",
            "Epoch 45/50\n",
            "25/25 [==============================] - 3s 102ms/step - loss: 0.0080 - val_loss: 0.0046\n",
            "Epoch 46/50\n",
            "25/25 [==============================] - 2s 99ms/step - loss: 0.0075 - val_loss: 0.0031\n",
            "Epoch 47/50\n",
            "25/25 [==============================] - 2s 99ms/step - loss: 0.0079 - val_loss: 0.0032\n",
            "Epoch 48/50\n",
            "25/25 [==============================] - 3s 108ms/step - loss: 0.0077 - val_loss: 0.0038\n",
            "Epoch 49/50\n",
            "25/25 [==============================] - 2s 100ms/step - loss: 0.0077 - val_loss: 0.0032\n",
            "Epoch 50/50\n",
            "25/25 [==============================] - 2s 98ms/step - loss: 0.0075 - val_loss: 0.0032\n"
          ]
        },
        {
          "output_type": "execute_result",
          "data": {
            "text/plain": [
              "<keras.callbacks.History at 0x7f6c5c4982d0>"
            ]
          },
          "metadata": {},
          "execution_count": 20
        }
      ]
    },
    {
      "cell_type": "code",
      "metadata": {
        "id": "GMC8y6tN0nIS"
      },
      "source": [
        "test_prediction = model.predict(X_test)\n",
        "test_prediction = (test_prediction * sc.data_range_[3]) + sc.data_min_[3]\n",
        "split_index = 1628"
      ],
      "execution_count": null,
      "outputs": []
    },
    {
      "cell_type": "code",
      "metadata": {
        "colab": {
          "base_uri": "https://localhost:8080/",
          "height": 350
        },
        "id": "J3vtOu5A3p3F",
        "outputId": "71cea829-796a-4466-b52a-bf61d789f37d"
      },
      "source": [
        "rev_data['Date'] = pd.to_datetime(rev_data['Date'])\n",
        "fig = plt.figure(figsize = (15, 5))\n",
        "plt.plot(rev_data['Date'].values[ split_index+60 : ], rev_data.Close.values[ split_index+60 : ], 'r-', label = 'Actual TCS Stock Price')\n",
        "plt.plot(rev_data['Date'].values[split_index+60 : ], test_prediction, 'b--', label = 'Testing prediction')\n",
        "\n",
        "plt.title('TCS share Stock Price Prediction')\n",
        "plt.xlabel('Date')\n",
        "plt.ylabel('TCS share Stock Price')\n",
        "plt.legend()\n",
        "plt.show()"
      ],
      "execution_count": null,
      "outputs": [
        {
          "output_type": "display_data",
          "data": {
            "image/png": "[encoded data removed]",
            "text/plain": [
              "<Figure size 1080x360 with 1 Axes>"
            ]
          },
          "metadata": {
            "needs_background": "light"
          }
        }
      ]
    },
    {
      "cell_type": "code",
      "metadata": {
        "colab": {
          "base_uri": "https://localhost:8080/",
          "height": 320
        },
        "id": "Lm1eQrLV-72t",
        "outputId": "88098f93-978e-4f9c-a1eb-fe5298be75f8"
      },
      "source": [
        "# Predicting and visualising\n",
        "\n",
        "fig = plt.figure(figsize = (15, 5))\n",
        "plt.plot(rev_data.Date.values[ : split_index+60 ], rev_data.Close.values[ : split_index+60 ], 'r-', label = 'Actual Stock Price')\n",
        "plt.plot(rev_data['Date'].values[split_index+60 : ], test_prediction, 'b--', label = 'Testing prediction')\n",
        "\n",
        "\n",
        "plt.legend()\n",
        "plt.show()"
      ],
      "execution_count": null,
      "outputs": [
        {
          "output_type": "display_data",
          "data": {
            "image/png": "[encoded data removed]",
            "text/plain": [
              "<Figure size 1080x360 with 1 Axes>"
            ]
          },
          "metadata": {
            "needs_background": "light"
          }
        }
      ]
    },
    {
      "cell_type": "markdown",
      "metadata": {
        "id": "5CgT2dKwoGNG"
      },
      "source": [
        "**THE END**"
      ]
    }
  ]
}